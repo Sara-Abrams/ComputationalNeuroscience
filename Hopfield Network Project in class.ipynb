{
 "cells": [
  {
   "cell_type": "markdown",
   "metadata": {},
   "source": [
    "# <i>Assignment:</i> Hopfield Network Project\n",
    "<font color=red>I can't find your work.</font>"
   ]
  },
  {
   "cell_type": "markdown",
   "metadata": {},
   "source": [
    "For this project we will be creating Hopfield networks with 100 neurons. Recall that activity of neurons in a Hopfield net are restricted to be either zero or one. You can therefore think of activity in the network as a length-100 binary array. In this abstract form, network activity is hard to think about. The following methods provide a way to visualize network activity as a 10x10 matrix"
   ]
  },
  {
   "cell_type": "code",
   "execution_count": 23,
   "metadata": {
    "collapsed": false
   },
   "outputs": [
    {
     "data": {
      "image/png": "[encoded data removed]",
      "text/plain": [
       "<matplotlib.figure.Figure at 0x10eacaa20>"
      ]
     },
     "metadata": {},
     "output_type": "display_data"
    }
   ],
   "source": [
    "from scipy import misc\n",
    "import numpy as np\n",
    "import matplotlib.pyplot as plt\n",
    "%matplotlib inline\n",
    "\n",
    "def array_to_matrix(a):\n",
    "    return a.reshape((10,10))\n",
    "\n",
    "def draw_matrix(M, axis):\n",
    "    axis.imshow(M, cmap='gray', interpolation='none')\n",
    "    axis.set_xticks([])\n",
    "    axis.set_yticks([])\n",
    "    \n",
    "def draw_array(A, axis):\n",
    "    draw_matrix(array_to_matrix(A), axis)\n",
    "\n",
    "# This creates an activity pattern that will look like a checkerboard\n",
    "example_activity = np.array([(i%2)*int(i/10)%2 + (1-i%2)*(1-int(i/10)%2) for i in range(100)])\n",
    "    \n",
    "(figure, axis) = plt.subplots()\n",
    "draw_array(example_activity, axis)\n",
    "plt.title('White: active; Black: inactive')\n",
    "plt.show()"
   ]
  },
  {
   "cell_type": "markdown",
   "metadata": {},
   "source": [
    "## Problem 1: Figure 2\n",
    "### Part A\n",
    "The figure was created by training the network on $n$ random memory states of the 100 total neurons. Create and store 5 random memory states as a 5x100 matrix of zeros and ones. Draw the memory states."
   ]
  },
  {
   "cell_type": "code",
   "execution_count": 27,
   "metadata": {
    "collapsed": false
   },
   "outputs": [
    {
     "data": {
      "image/png": "[encoded data removed]",
      "text/plain": [
       "<matplotlib.figure.Figure at 0x10fbcb2e8>"
      ]
     },
     "metadata": {},
     "output_type": "display_data"
    }
   ],
   "source": [
    "num_memories = 5\n",
    "M = np.random.choice([0, 1], (num_memories, 100))\n",
    "\n",
    "for i in range(num_memories):\n",
    "    a = plt.subplot(int(num_memories/5),5,i+1)\n",
    "    draw_array(M[i], a)\n",
    "plt.show()"
   ]
  },
  {
   "cell_type": "markdown",
   "metadata": {},
   "source": [
    "### Part B\n",
    "Now create and draw a 100x100 weight matrix based on your 5 memory states."
   ]
  },
  {
   "cell_type": "code",
   "execution_count": 28,
   "metadata": {
    "collapsed": false
   },
   "outputs": [
    {
     "data": {
      "image/png": "[encoded data removed]",
      "text/plain": [
       "<matplotlib.figure.Figure at 0x10fbf52e8>"
      ]
     },
     "metadata": {},
     "output_type": "display_data"
    }
   ],
   "source": [
    "W = np.zeros( (100,100) )\n",
    "\n",
    "for i in range(100):\n",
    "    for j in range(100):\n",
    "        for s in range(num_memories):\n",
    "            W[i][j] += (2 * M[s][i] - 1) * (2 * M[s][j] - 1)\n",
    "    \n",
    "    W[i][i] = 0\n",
    "\n",
    "(fig, axis) = plt.subplots()\n",
    "draw_matrix(W, axis)\n",
    "plt.show()"
   ]
  },
  {
   "cell_type": "markdown",
   "metadata": {},
   "source": [
    "### Part C\n",
    "To test for state stability, the network was started at one memory state and was allowed to update until the activity pattern stabilized. \n",
    "\n",
    "Start your network activity to equal your first memory state. Update network activity until the pattern of activity does not change from one time step to the next. Draw the network activity at the beginning and after stabilization.\n",
    "\n",
    "A word of warning: be careful how you update your network activity array. If <code>x</code> is your current activity array, and <code>x_new</code> is the calculated activity array at the next time step, then you will eventually want to update your current activity to take on the new values. If you run\n",
    "\n",
    "<code>x = x_new</code> \n",
    "\n",
    "then unexpected things will occur, so don't do this. Instead, run\n",
    "\n",
    "<code>x = x_new.copy()</code>.\n",
    "\n",
    "Finally, determine the number of errors in the stabilized array relative to the starting activity. This should be equal to the number of elements that differ from start to stable."
   ]
  },
  {
   "cell_type": "code",
   "execution_count": 29,
   "metadata": {
    "collapsed": false
   },
   "outputs": [
    {
     "name": "stdout",
     "output_type": "stream",
     "text": [
      "Number of errors:  0\n"
     ]
    },
    {
     "data": {
      "image/png": "[encoded data removed]",
      "text/plain": [
       "<matplotlib.figure.Figure at 0x10eab0ef0>"
      ]
     },
     "metadata": {},
     "output_type": "display_data"
    }
   ],
   "source": [
    "x = M[0]\n",
    "x_start = x.copy()\n",
    "\n",
    "stable = False\n",
    "iteration_num = 0\n",
    "max_iterations = 20\n",
    "while not stable:\n",
    "    x_new = np.zeros(100)\n",
    "    \n",
    "    for i in range(100):\n",
    "        sum_of_all_inputs = 0\n",
    "        for j in range(100):\n",
    "            sum_of_all_inputs += W[i][j] * x[j]\n",
    "\n",
    "        if sum_of_all_inputs >= 0:\n",
    "            x_new[i] = 1\n",
    "        else:\n",
    "            x_new[i] = 0\n",
    "            \n",
    "    if np.array_equal(x, x_new):\n",
    "        stable = True\n",
    "    else:\n",
    "        x = x_new.copy()\n",
    "        iteration_num += 1\n",
    "        if iteration_num > max_iterations:\n",
    "            break\n",
    "\n",
    "x_final = x.copy()\n",
    "\n",
    "num_errors = np.sum(x_final != x_start)\n",
    "'''\n",
    "num_errors = 0\n",
    "for i in range(100):\n",
    "    if x_start[i] != x_final[i]:\n",
    "        num_errors += 1\n",
    "'''\n",
    "print('Number of errors: ', num_errors)\n",
    "\n",
    "a1 = plt.subplot(1,2,1)\n",
    "draw_array(x_start, a1)\n",
    "plt.title('Start')\n",
    "\n",
    "a2 = plt.subplot(1,2,2)\n",
    "draw_array(x_final, a2)\n",
    "plt.title('Final')\n",
    "\n",
    "plt.show()"
   ]
  },
  {
   "cell_type": "markdown",
   "metadata": {},
   "source": [
    "### Part D\n",
    "Reproduce parts A through C with 15 random memory states."
   ]
  },
  {
   "cell_type": "code",
   "execution_count": null,
   "metadata": {
    "collapsed": false
   },
   "outputs": [],
   "source": []
  },
  {
   "cell_type": "markdown",
   "metadata": {},
   "source": [
    "### Part E\n",
    "Finally, run the model 50 times each with 5, 10, and 15 memory states. Plot histograms of the number of errors generated for each number of memory states."
   ]
  },
  {
   "cell_type": "code",
   "execution_count": null,
   "metadata": {
    "collapsed": false
   },
   "outputs": [],
   "source": []
  },
  {
   "cell_type": "markdown",
   "metadata": {},
   "source": [
    "## Problem 2\n",
    "For this problem, we are going to work with memory states that are a bit easier to visualize. The following code produces states that look like letters, numbers, and assorted other characters when drawn as matrices. You can view the whole alphabet by opening the <a href='alphabet.bmp'>alphabet.bmp</a> file."
   ]
  },
  {
   "cell_type": "code",
   "execution_count": 31,
   "metadata": {
    "collapsed": false
   },
   "outputs": [],
   "source": [
    "from scipy import misc\n",
    "\n",
    "alphabet_image = misc.imread('alphabet.bmp', flatten=True, mode='P')\n",
    "alphabet_image /= np.max(alphabet_image)\n",
    "alphabet_image = np.round(alphabet_image)\n",
    "\n",
    "def get_letter_as_matrix(n):\n",
    "    if n >= 256:\n",
    "        return\n",
    "    \n",
    "    row = int(n / 16)\n",
    "    col = n % 16\n",
    "    \n",
    "    return alphabet_image[row*10:row*10+10, col*10:col*10+10]\n",
    "\n",
    "def get_letter_as_array(n):\n",
    "    M = get_letter_as_matrix(n)\n",
    "    return M.ravel()"
   ]
  },
  {
   "cell_type": "code",
   "execution_count": 33,
   "metadata": {
    "collapsed": false
   },
   "outputs": [
    {
     "name": "stdout",
     "output_type": "stream",
     "text": [
      "Some possible memory states:\n"
     ]
    },
    {
     "data": {
      "image/png": "[encoded data removed]",
      "text/plain": [
       "<matplotlib.figure.Figure at 0x10ef3a278>"
      ]
     },
     "metadata": {},
     "output_type": "display_data"
    }
   ],
   "source": [
    "print('Some possible memory states:')\n",
    "letter_indices = [72, 101, 108, 108, 111, 33, 15]\n",
    "\n",
    "for i in range(len(letter_indices)):\n",
    "    a = plt.subplot(1, len(letter_indices), i+1)\n",
    "    letter = get_letter_as_matrix(letter_indices[i])\n",
    "    draw_matrix(letter, a)\n",
    "\n",
    "plt.show()"
   ]
  },
  {
   "cell_type": "markdown",
   "metadata": {},
   "source": [
    "### Part A: Pattern completion\n",
    "Train the network with two letters. Start the network activity with activity determined by one of the letters, currupted so that 1/2 of neurons that should be on start off. Does the network stabilize to the correct completed pattern?"
   ]
  },
  {
   "cell_type": "code",
   "execution_count": 56,
   "metadata": {
    "collapsed": false
   },
   "outputs": [
    {
     "name": "stdout",
     "output_type": "stream",
     "text": [
      "Memories:\n"
     ]
    },
    {
     "data": {
      "image/png": "[encoded data removed]",
      "text/plain": [
       "<matplotlib.figure.Figure at 0x10f04d2b0>"
      ]
     },
     "metadata": {},
     "output_type": "display_data"
    },
    {
     "name": "stdout",
     "output_type": "stream",
     "text": [
      "Weight matrix:\n"
     ]
    },
    {
     "data": {
      "image/png": "[encoded data removed]",
      "text/plain": [
       "<matplotlib.figure.Figure at 0x10f2f2240>"
      ]
     },
     "metadata": {},
     "output_type": "display_data"
    },
    {
     "name": "stdout",
     "output_type": "stream",
     "text": [
      "Starting state:\n"
     ]
    },
    {
     "data": {
      "image/png": "[encoded data removed]",
      "text/plain": [
       "<matplotlib.figure.Figure at 0x10f276be0>"
      ]
     },
     "metadata": {},
     "output_type": "display_data"
    },
    {
     "name": "stdout",
     "output_type": "stream",
     "text": [
      "Final state:\n"
     ]
    },
    {
     "data": {
      "image/png": "[encoded data removed]",
      "text/plain": [
       "<matplotlib.figure.Figure at 0x10e914ac8>"
      ]
     },
     "metadata": {},
     "output_type": "display_data"
    }
   ],
   "source": [
    "# create memory states\n",
    "num_memories = 2\n",
    "M = np.zeros((num_memories,100))\n",
    "for i in range(num_memories):\n",
    "    M[i] = get_letter_as_array( np.random.choice(256) )\n",
    "\n",
    "print('Memories:')\n",
    "for i in range(num_memories):\n",
    "    a = plt.subplot(1, num_memories, i+1)\n",
    "    draw_array(M[i], a)\n",
    "plt.show()\n",
    "\n",
    "# train network\n",
    "W = np.zeros( (100,100) )\n",
    "for i in range(100):\n",
    "    for j in range(100):\n",
    "        for s in range(num_memories):\n",
    "            W[i][j] += (2 * M[s][i] - 1) * (2 * M[s][j] - 1)    \n",
    "    W[i][i] = 0\n",
    "print('Weight matrix:')\n",
    "(fig, axis) = plt.subplots()\n",
    "draw_matrix(W, axis)\n",
    "plt.show()\n",
    "\n",
    "# start from corrupted state\n",
    "x = M[0].copy()\n",
    "for i in range(100):\n",
    "    if x[i] == 1 and np.random.uniform() > .5:\n",
    "        x[i] = 0\n",
    "x_start = x.copy()\n",
    "\n",
    "print('Starting state:')\n",
    "(fig, axis) = plt.subplots()\n",
    "draw_array(x_start, axis)\n",
    "plt.show()\n",
    "\n",
    "stable = False\n",
    "iteration_num = 0\n",
    "max_iterations = 100\n",
    "while not stable:\n",
    "    x_new = np.zeros(100)\n",
    "    \n",
    "    for i in range(100):\n",
    "        sum_of_all_inputs = 0\n",
    "        for j in range(100):\n",
    "            sum_of_all_inputs += W[i][j] * x[j]\n",
    "\n",
    "        if sum_of_all_inputs >= 0:\n",
    "            x_new[i] = 1\n",
    "        else:\n",
    "            x_new[i] = 0\n",
    "            \n",
    "    if np.array_equal(x, x_new):\n",
    "        stable = True\n",
    "    else:\n",
    "        x = x_new.copy()\n",
    "        iteration_num += 1\n",
    "        if iteration_num > max_iterations:\n",
    "            break\n",
    "\n",
    "x_final = x.copy()\n",
    "\n",
    "print('Final state:')\n",
    "(fig, axis) = plt.subplots()\n",
    "draw_array(x_final, axis)\n",
    "plt.show()"
   ]
  },
  {
   "cell_type": "markdown",
   "metadata": {},
   "source": [
    "### Part B: Working memory capacity\n",
    "Re-run Part A with more memory states to determine, roughly, when recall breaks down."
   ]
  },
  {
   "cell_type": "code",
   "execution_count": null,
   "metadata": {
    "collapsed": false
   },
   "outputs": [],
   "source": []
  },
  {
   "cell_type": "markdown",
   "metadata": {},
   "source": [
    "### Part C: Mind wandering\n",
    "Using two memory states, start from a random pattern of activity and let the network evolve until stable. Draw beginning and end network states."
   ]
  },
  {
   "cell_type": "code",
   "execution_count": null,
   "metadata": {
    "collapsed": false
   },
   "outputs": [],
   "source": []
  }
 ],
 "metadata": {
  "anaconda-cloud": {},
  "kernelspec": {
   "display_name": "Python [default]",
   "language": "python",
   "name": "python3"
  },
  "language_info": {
   "codemirror_mode": {
    "name": "ipython",
    "version": 3
   },
   "file_extension": ".py",
   "mimetype": "text/x-python",
   "name": "python",
   "nbconvert_exporter": "python",
   "pygments_lexer": "ipython3",
   "version": "3.5.2"
  }
 },
 "nbformat": 4,
 "nbformat_minor": 1
}
