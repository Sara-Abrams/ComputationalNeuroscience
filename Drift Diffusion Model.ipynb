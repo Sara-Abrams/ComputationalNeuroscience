{
 "cells": [
  {
   "cell_type": "markdown",
   "metadata": {},
   "source": [
    "# Drift Diffusion Model Project"
   ]
  },
  {
   "cell_type": "code",
   "execution_count": null,
   "metadata": {
    "collapsed": true
   },
   "outputs": [],
   "source": [
    "import math\n",
    "import numpy as np\n",
    "import matplotlib.pyplot as plt"
   ]
  },
  {
   "cell_type": "markdown",
   "metadata": {
    "collapsed": false
   },
   "source": [
    "## Figure 1"
   ]
  },
  {
   "cell_type": "markdown",
   "metadata": {},
   "source": [
    "The drift diffusion model is described by:\n",
    "\n",
    "$$\n",
    "x_{j,1} = x_0 + \\epsilon_{j,0} \\\\\n",
    "x_{j,t+1} = x_{j,t} + \\beta_{c(j)} + \\epsilon_{j,t} \\\\\n",
    "\\epsilon_{j,t} \\sim \\mathcal{N}(0,\\omega^2) \\\\\n",
    "y_{j,t}|t < \\tau_j \\sim \\mbox{Poisson}(\\log(1+\\exp(\\gamma x_t)) \\Delta_t) \\\\\n",
    "y_{j,t}|t \\geq \\tau_j \\sim \\mbox{Poisson}(\\log(1+\\exp(\\gamma)) \\Delta_t)\n",
    "$$\n",
    "\n",
    "<ul>\n",
    "<li>$x$ is the variable that drifts. $\\beta$ is the coherence ($c$) dependent drift rate and $\\epsilon$ is the noise (normal with variance $\\omega^2$)</li>\n",
    "<li>$\\tau_j$ is the (absorbing) boundary crossing time. Before $\\tau_j$, firing rate depends on $x_t$ and the maximum firing rate $\\gamma$.</li>\n",
    "<li>$y_{j,t}$ are the action potential times.</li>\n",
    "</ul>"
   ]
  },
  {
   "cell_type": "markdown",
   "metadata": {},
   "source": [
    "The function $\\log(1+\\exp(\\gamma x_t))$ is the \"transfer function\" that determines the neuron's firing rate based on the state of the accumulation process ($x_t$). First, let's plot this transfer function to see how it behaves:"
   ]
  },
  {
   "cell_type": "code",
   "execution_count": null,
   "metadata": {
    "collapsed": false
   },
   "outputs": [],
   "source": [
    "# x_t has an absorbing bound at 1.0\n",
    "xt = np.arange(-.5, 1.05, .05)\n",
    "# gamma specifies the maximum firing rate\n",
    "gamma = 55\n",
    "\n",
    "firing_rate = []\n",
    "for i in range(len(xt)):\n",
    "    x = xt[i]\n",
    "    firing_rate.append( math.log(1 + math.exp(gamma*x)) )\n",
    "\n",
    "plt.rcParams['figure.figsize'] = [6,6]\n",
    "f, a = plt.subplots()\n",
    "a.plot([0, 1], [0, gamma], '--', color='#888888')\n",
    "a.plot(xt, firing_rate)\n",
    "a.set_xlabel('Evidence ($x_t$)')\n",
    "a.set_ylabel('Firing Rate (Hz)')\n",
    "a.set_title('Transfer Function')\n",
    "plt.show()"
   ]
  },
  {
   "cell_type": "markdown",
   "metadata": {
    "collapsed": true
   },
   "source": [
    "### Drift Diffusion Model\n",
    "\n",
    "Model parameters similar to a true LIP neurons are given in the figure legend for supplemental figure S5. We will use these parameters as a starting point and modify to match Figure 1 as needed."
   ]
  },
  {
   "cell_type": "code",
   "execution_count": null,
   "metadata": {
    "collapsed": true
   },
   "outputs": [],
   "source": [
    "beta = [-4.7e-3, -2.4e-4, -1.3e-3, 6e-4, 3.4e-3]\n",
    "x0 = .72\n",
    "w2 = 1.7e-3\n",
    "gamma = 55"
   ]
  },
  {
   "cell_type": "markdown",
   "metadata": {},
   "source": [
    "Reproduce Figure 1B by modeling the drift in spike rate and stochastically generating spikes.\n",
    "\n",
    "For modeling, Latimer et al. simulated the diffusion process at a time resolution of $\\Delta_t = 10 \\mbox{ ms}$ and spike generation at a time interval of $0.2 \\mbox{ ms}$. To help Python run faster, it is fine to use a time interval of $1 \\mbox{ ms}$ to model spike times."
   ]
  },
  {
   "cell_type": "code",
   "execution_count": null,
   "metadata": {
    "collapsed": true
   },
   "outputs": [],
   "source": [
    "Dt = 10\n",
    "dt = 1 #.2"
   ]
  },
  {
   "cell_type": "markdown",
   "metadata": {},
   "source": [
    "### Problem 1\n",
    "\n",
    "<b>Implement the drift diffusion algorithm to reproduce Figure 1B</b>. I find that Figure 1B can be approximated by assuming that the drift rates ($\\beta$) are 3 times greater than the values given in Fig S5. "
   ]
  },
  {
   "cell_type": "code",
   "execution_count": null,
   "metadata": {
    "collapsed": false
   },
   "outputs": [],
   "source": [
    "# prep the plot\n",
    "plt.rcParams['figure.figsize'] = [8,10]\n",
    "a1 = plt.subplot(2,1,1)\n",
    "a2 = plt.subplot(2,1,2)\n",
    "colors = ['#f3613e', '#b05639', '#656769', '#456b94', '#69a2d8']\n",
    "\n",
    "# number of trials to simulate. Figure 1B has 5 trials per condition\n",
    "num_trials = 5\n",
    "\n",
    "# create list of time points\n",
    "t_min = 0\n",
    "t_max = 600\n",
    "time = np.arange(t_min, t_max+dt, dt)\n",
    "\n",
    "# simulate for low, zero, and high coherence\n",
    "for c in [0,2,4]:\n",
    "    for trial in range(num_trials):\n",
    "        # initialize lists for this trial\n",
    "        x = []\n",
    "        spike_rate = []\n",
    "        spikes = []\n",
    "\n",
    "        for t in time:\n",
    "            # only update the diffusion process every Dt msec\n",
    "            if round(t,1) % Dt == 0:\n",
    "                # don't start the diffusion process before 200ms post stimulus\n",
    "                if t <= 200:\n",
    "                    x.append(x0)\n",
    "\n",
    "                # implement the diffusion process\n",
    "\n",
    "            # determine whether a spike occurred at t and store time if so\n",
    "            \n",
    "\n",
    "        a1.plot(np.arange(t_min,t_max+dt,Dt), spike_rate, color=colors[c])\n",
    "        a2.plot(spikes, np.ones(len(spikes))*((c/2*num_trials)+trial+1), '.', color=colors[c])\n",
    "\n",
    "a1.set_ylim( (0, 60) )\n",
    "a1.plot([200,200], a1.get_ylim(), ':', color='#cccccc')\n",
    "a2.plot([200,200], a2.get_ylim(), ':', color='#cccccc')\n",
    "\n",
    "a1.set_ylabel('spike rate (sp/s)')\n",
    "a2.set_ylabel('trial number')\n",
    "a2.set_xlabel('time (ms)')\n",
    "\n",
    "plt.show()"
   ]
  },
  {
   "cell_type": "markdown",
   "metadata": {},
   "source": [
    "### Stepping Model"
   ]
  },
  {
   "cell_type": "markdown",
   "metadata": {},
   "source": [
    "The stepping model is described by the following equations:\n",
    "\n",
    "$$\n",
    "z_j \\sim \\mbox{Negative Binomial}(p_{c(j)}, r) \\\\\n",
    "P(d_j=1) = \\phi_{c(j)} \\\\\n",
    "P(d_j=2) = 1 - \\phi_{c(j)} \\\\\n",
    "y_{j,t}|t \\leq z_j \\sim \\mbox{Poisson}(\\alpha_0 \\Delta_t) \\\\\n",
    "y_{j,t}|t > z_j \\sim \\mbox{Poisson}(\\alpha_{d_j} \\Delta_t)\n",
    "$$\n",
    "\n",
    "<ul>\n",
    "<li>$z_j$ is the stepping time. The probability function that detemines step times differs by condition $c(j)$.</li>\n",
    "<li>$d_j$ is the stepping destination. $d_j=1$ corresponds to a down step and $d_j=2$ corresponds to an up step.</li>\n",
    "<li>$y_{j,t}$ is the probability of an action potential at any given time $t$ where $\\alpha$ is the firing rate in that state and state 0 is the initial state.</li>\n",
    "</ul>\n",
    "\n",
    "Python does not come with a negative binomial function that works with non-integer values. However, the internet has one:"
   ]
  },
  {
   "cell_type": "code",
   "execution_count": null,
   "metadata": {
    "collapsed": true
   },
   "outputs": [],
   "source": [
    "# From http://www.nehalemlabs.net/prototype/blog/2013/11/11/negative-binomial-with-continuous-parameters-in-python/\n",
    "\n",
    "import scipy.special as special\n",
    "import scipy.optimize as optimize\n",
    "import numpy as np\n",
    "import mpmath\n",
    " \n",
    "class negBin(object):\n",
    "    def __init__(self, p = 0.1, r = 10):\n",
    "        nbin_mpmath = lambda k, p, r: mpmath.gamma(k + r)/(mpmath.gamma(k+1)*mpmath.gamma(r))*np.power(1-p, r)*np.power(p, k)\n",
    "        self.nbin = np.frompyfunc(nbin_mpmath, 3, 1)\n",
    "        self.p = p\n",
    "        self.r = r\n",
    " \n",
    "    def mleFun(self, par, data, sm):\n",
    "        '''\n",
    "        Objective function for MLE estimate according to\n",
    "        https://en.wikipedia.org/wiki/Negative_binomial_distribution#Maximum_likelihood_estimation\n",
    "\n",
    "        Keywords:\n",
    "        data -- the points to be fit\n",
    "        sm -- \\sum data / len(data)\n",
    "        '''\n",
    "        p = par[0]\n",
    "        r = par[1]\n",
    "        n = len(data)\n",
    "        f0 = sm/(r+sm)-p\n",
    "        f1 = np.sum(special.psi(data+r)) - n*special.psi(r) + n*np.log(r/(r+sm))\n",
    "        return np.array([f0, f1])\n",
    "\n",
    "    def fit(self, data, p = None, r = None):\n",
    "        if p is None or r is None:\n",
    "            av = np.average(data)\n",
    "            va = np.var(data)\n",
    "            r = (av*av)/(va-av)\n",
    "            p = (va-av)/(va)\n",
    "        sm = np.sum(data)/len(data)\n",
    "        x = optimize.fsolve(self.mleFun, np.array([p, r]), args=(data, sm))\n",
    "        self.p = x[0]\n",
    "        self.r = x[1]\n",
    "\n",
    "    def pdf(self, k):\n",
    "        try:\n",
    "            return self.nbin(k, self.p, self.r).astype('float64')\n",
    "        except:\n",
    "            return self.nbin(k, self.p, self.r)"
   ]
  },
  {
   "cell_type": "markdown",
   "metadata": {},
   "source": [
    "Model parameter for an example LIP neuron are given in the legend for Figure S5. The firing rate parameters ($\\alpha$) need to be changed to match Figure 1C. "
   ]
  },
  {
   "cell_type": "code",
   "execution_count": null,
   "metadata": {
    "collapsed": true
   },
   "outputs": [],
   "source": [
    "alpha = [25, 10, 55] #[4.1, .57, 41.0]\n",
    "phi = [.10, .30, .71, .82, .98]\n",
    "p = [0.99, 0.98, 0.98, 0.975, 0.97]\n",
    "r = 1.05"
   ]
  },
  {
   "cell_type": "markdown",
   "metadata": {},
   "source": [
    "We can now take a look at the negative binomial distribution to get an idea about how the stepping process is modeled. Note that the distribution of step times is plotted in Figure 2B.\n",
    "\n",
    "I find that Figure 1C is better approximated by letting $p_{c(j)}=0.995$ for all $c(j)$ and letting $r=1.5$."
   ]
  },
  {
   "cell_type": "code",
   "execution_count": null,
   "metadata": {
    "collapsed": false
   },
   "outputs": [],
   "source": [
    "colors = ['#f3613e', '#b05639', '#656769', '#456b94', '#69a2d8']\n",
    "\n",
    "plt.rcParams['figure.figsize'] = [8,6]\n",
    "f,a = plt.subplots()\n",
    "\n",
    "for i in range(len(p)):\n",
    "    neg_bin = negBin(p=p[i], r=r)\n",
    "    #neg_bin = negBin(p=.995, r=1.5)\n",
    "\n",
    "    xstep = 10\n",
    "    xbin = np.arange(0,1200+xstep,xstep)\n",
    "\n",
    "    a.plot( xbin, neg_bin.pdf(xbin), color=colors[i] )\n",
    "\n",
    "a.set_xlabel('time (msec)')\n",
    "a.set_ylabel('P(step)')\n",
    "a.set_title('Negative Binomial Distribution')\n",
    "plt.show()"
   ]
  },
  {
   "cell_type": "markdown",
   "metadata": {},
   "source": [
    "### Problem 2\n",
    "\n",
    "<b>Implement the stepping model to reproduce Figure 1C:</b>"
   ]
  },
  {
   "cell_type": "code",
   "execution_count": null,
   "metadata": {
    "collapsed": false
   },
   "outputs": [],
   "source": [
    "# prep the plot\n",
    "plt.rcParams['figure.figsize'] = [8,10]\n",
    "a1 = plt.subplot(2,1,1)\n",
    "a2 = plt.subplot(2,1,2)\n",
    "colors = ['#f3613e', '#b05639', '#656769', '#456b94', '#69a2d8']\n",
    "\n",
    "\n",
    "# number of trials to simulate. Figure 1B has 5 trials per condition\n",
    "num_trials = 5\n",
    "\n",
    "# create list of time points\n",
    "t_min = 0\n",
    "t_max = 600\n",
    "time = np.arange(t_min, t_max+dt, dt)\n",
    "\n",
    "# simulate for low, zero, and high coherence\n",
    "for c in [0,2,4]:\n",
    "    #neg_bin = negBin(p=p[c], r=r)\n",
    "    neg_bin = negBin(p=.995, r=1.5)\n",
    "    \n",
    "    for trial in range(num_trials):\n",
    "        # initialize trial variables\n",
    "        state = 0\n",
    "        spike_rate = []\n",
    "        spike_rate_times = []\n",
    "        spikes = []\n",
    "\n",
    "        for t in time:\n",
    "            # test whether a step should occur\n",
    "            \n",
    "            # if so, select next state\n",
    "            \n",
    "            # store modeled spike_rate for plotting\n",
    "\n",
    "            # test if an action potential should occur\n",
    "            \n",
    "            # if so, store the time in spikes\n",
    "        \n",
    "        \n",
    "        a1.plot(spike_rate_times, spike_rate, color=colors[c])\n",
    "        a2.plot(spikes, np.ones(len(spikes))*((c/2*num_trials)+trial+1), '.', color=colors[c])\n",
    "\n",
    "\n",
    "a1.set_ylim( (0, 60) )\n",
    "a1.plot([200,200], a1.get_ylim(), ':', color='#cccccc')\n",
    "a2.plot([200,200], a2.get_ylim(), ':', color='#cccccc')\n",
    "\n",
    "a1.set_ylabel('spike rate (sp/s)')\n",
    "a2.set_ylabel('trial number')\n",
    "a2.set_xlabel('time (ms)')\n",
    "\n",
    "plt.show()"
   ]
  },
  {
   "cell_type": "markdown",
   "metadata": {},
   "source": [
    "## Figure 3A"
   ]
  },
  {
   "cell_type": "markdown",
   "metadata": {},
   "source": [
    "For this figure we will stimulate spike times and then uses these spikes to generate firing rate plots for the two models, aligned both to stimulus onset and step time.\n",
    "\n",
    "The following fuction will make your life easier. It converts simulated spike times into an estimated spike rate across time."
   ]
  },
  {
   "cell_type": "code",
   "execution_count": null,
   "metadata": {
    "collapsed": true
   },
   "outputs": [],
   "source": [
    "def spike_times_to_rate(spikes, time_step=Dt, t_min=0, t_max=400):\n",
    "    firing_rate = np.zeros( int( (t_max-t_min)/Dt ) )\n",
    "    \n",
    "    for spike_times in spikes.values():\n",
    "        for s in spike_times:\n",
    "            i = int( (s-t_min)/Dt )\n",
    "            if i>=0 and i<len(firing_rate): firing_rate[i] += 1\n",
    "    \n",
    "    firing_rate /= len(spikes)  # normalize to probability of spikes per bin\n",
    "    firing_rate /= Dt           # convert to per msec\n",
    "    firing_rate *= 1000         # convert to per sec (Hz)\n",
    "    \n",
    "    return firing_rate"
   ]
  },
  {
   "cell_type": "markdown",
   "metadata": {},
   "source": [
    "### Drift Diffusion Model\n",
    "\n",
    "### Problem 3\n",
    "\n",
    "Model the stimulus-aligned firing rates for the diffusion model:"
   ]
  },
  {
   "cell_type": "code",
   "execution_count": null,
   "metadata": {
    "collapsed": false
   },
   "outputs": [],
   "source": [
    "# prep the plot\n",
    "plt.rcParams['figure.figsize'] = [8,10]\n",
    "a1 = plt.subplot(2,1,1)\n",
    "a2 = plt.subplot(2,1,2)\n",
    "colors = ['#f3613e', '#b05639', '#656769', '#456b94', '#69a2d8']\n",
    "\n",
    "# simulate more trials to average over trial-level noise \n",
    "num_trials = 100\n",
    "\n",
    "# this time we need to keep track of spikes for all trials. we do\n",
    "# this by storing lists in a dict, where the keys are the trial numbers.\n",
    "# this allows us to average over trials at the end to get mean firing rate.\n",
    "spikes = {}\n",
    "\n",
    "# create list of time points\n",
    "t_min = -100\n",
    "t_max = 600\n",
    "time = np.arange(t_min, t_max+dt, dt)\n",
    "\n",
    "# simulate for all conditions\n",
    "for c in range(5):\n",
    "    for trial in range(num_trials):\n",
    "        # initialize trial variables\n",
    "        x = x0\n",
    "        spikes[trial] = []\n",
    "\n",
    "        for t in time:\n",
    "            # only update the diffusion process every Dt msec\n",
    "            if round(t,1) % Dt == 0:\n",
    "                # update x\n",
    "\n",
    "            # determine whether an action potential should occur\n",
    "            \n",
    "            # if so, append time to spikes[trial]\n",
    "        \n",
    "        # only plot spikes for the first 5 trials\n",
    "        if trial < 5:\n",
    "            a1.plot(spikes[trial], np.ones(len(spikes[trial]))*((c*5)+trial+1), '.', color=colors[c])\n",
    "        \n",
    "\n",
    "    rate = spike_times_to_rate(spikes, t_min=t_min, t_max=t_max)\n",
    "    a2.plot(np.arange(t_min,t_max,Dt), rate, color=colors[c])\n",
    "\n",
    "    \n",
    "a1.plot([0,0], a1.get_ylim(), ':k', color='#cccccc')\n",
    "a2.plot([0,0], a2.get_ylim(), ':k', color='#cccccc')\n",
    "\n",
    "a1.set_ylabel('trial number')\n",
    "a2.set_ylabel('spike rate (sp/s)')\n",
    "a2.set_xlabel('time (ms)')\n",
    "\n",
    "plt.show()"
   ]
  },
  {
   "cell_type": "markdown",
   "metadata": {},
   "source": [
    "### Stepping Model\n",
    "\n",
    "### Problem 4\n",
    "\n",
    "Plot modeled stimulus-aligned firing rates for the stepping model."
   ]
  },
  {
   "cell_type": "code",
   "execution_count": null,
   "metadata": {
    "collapsed": false
   },
   "outputs": [],
   "source": [
    "# prep the plot\n",
    "plt.rcParams['figure.figsize'] = [8,10]\n",
    "a1 = plt.subplot(2,1,1)\n",
    "a2 = plt.subplot(2,1,2)\n",
    "colors = ['#f3613e', '#b05639', '#656769', '#456b94', '#69a2d8']\n",
    "\n",
    "# simulate more trials to average over trial-level noise \n",
    "num_trials = 50\n",
    "\n",
    "# this time we need to keep track of spikes for all trials. we do\n",
    "# this by storing lists in a dict, where the keys are the trial numbers.\n",
    "# this allows us to average over trials at the end to get mean firing rate.\n",
    "spikes = {}\n",
    "\n",
    "# create list of time points\n",
    "t_min = -100\n",
    "t_max = 600\n",
    "time = np.arange(t_min, t_max+dt, dt)\n",
    "\n",
    "# simulate for all conditions\n",
    "for c in range(5):\n",
    "    #neg_bin = negBin(p=p[c], r=r)\n",
    "    neg_bin = negBin(p=.995, r=1.5)\n",
    "    \n",
    "    for trial in range(num_trials):\n",
    "        # initialize trial variables\n",
    "        state = 0\n",
    "        spikes[trial] = []\n",
    "\n",
    "        for t in time:\n",
    "            # determine if a step should occur\n",
    "            \n",
    "            # if so, update state variable\n",
    "\n",
    "            # determine whether an action potential should occur\n",
    "            \n",
    "            # if so, store the time in spikes[trial]\n",
    "                \n",
    "                \n",
    "        # only plot spikes for the first 5 trials\n",
    "        if trial < 5:\n",
    "            a1.plot(spikes[trial], np.ones(len(spikes[trial]))*((c*5)+trial+1), '.', color=colors[c])\n",
    "        \n",
    "\n",
    "    rate = spike_times_to_rate(spikes, t_min=t_min, t_max=t_max)\n",
    "    a2.plot(np.arange(t_min,t_max,Dt), rate, color=colors[c])\n",
    "\n",
    "    \n",
    "a1.plot([0,0], a1.get_ylim(), ':k', color='#cccccc')\n",
    "a2.plot([0,0], a2.get_ylim(), ':k', color='#cccccc')\n",
    "\n",
    "a1.set_ylabel('trial number')\n",
    "a2.set_ylabel('spike rate (sp/s)')\n",
    "a2.set_xlabel('time (ms)')\n",
    "\n",
    "plt.show()"
   ]
  },
  {
   "cell_type": "markdown",
   "metadata": {},
   "source": [
    "### Step Aligned\n",
    "\n",
    "### Problem 5\n",
    "\n",
    "Re-run the stepping model, but adjust spike times so that $t=0$ corresponds to the step time."
   ]
  },
  {
   "cell_type": "code",
   "execution_count": null,
   "metadata": {
    "collapsed": false
   },
   "outputs": [],
   "source": [
    "# prep the plot\n",
    "plt.rcParams['figure.figsize'] = [8,10]\n",
    "a1 = plt.subplot(2,1,1)\n",
    "a2 = plt.subplot(2,1,2)\n",
    "colors = ['#f3613e', '#b05639', '#656769', '#456b94', '#69a2d8']\n",
    "\n",
    "# simulate more trials to average over trial-level noise \n",
    "num_trials = 50\n",
    "\n",
    "# this time we need to keep track of trial variables for all trials\n",
    "# this allows us to average over trials at the end to get mean firing rate\n",
    "x = {}\n",
    "spike_rate = {}\n",
    "spike_rate_times = {}\n",
    "spikes = {}\n",
    "\n",
    "# create list of time points\n",
    "t_min = -100\n",
    "t_max = 1000\n",
    "time = np.arange(t_min, t_max+dt, dt)\n",
    "\n",
    "# simulate for all conditions\n",
    "for c in range(5):\n",
    "    #neg_bin = negBin(p=p[c], r=r)\n",
    "    neg_bin = negBin(p=.995, r=1.5)\n",
    "    \n",
    "    trial = 0\n",
    "    while trial < num_trials:\n",
    "        # initialize trial variables\n",
    "        state = 0\n",
    "        step_time = 0\n",
    "        spikes[trial] = []\n",
    "\n",
    "        for t in time:\n",
    "            # determine if a step should occur\n",
    "            \n",
    "            # if so, update state variable and store step_time\n",
    "\n",
    "            # determine whether an action potential should occur\n",
    "            \n",
    "            # if so, store the time in spikes[trial]\n",
    "           \n",
    "        if state == 0:\n",
    "            # only use this trial if a step occurred. otherwise, nothing to align to\n",
    "            continue\n",
    "        else:\n",
    "            # adjust spike times based on step_time\n",
    "            \n",
    "            # only plot spikes for the first 5 trials\n",
    "            if trial < 5:\n",
    "                a1.plot(spikes[trial], np.ones(len(spikes[trial]))*((c*5)+trial+1), '.', color=colors[c])\n",
    "            \n",
    "            trial += 1\n",
    "\n",
    "    rate = spike_times_to_rate(spikes, t_min=-100, t_max=300)\n",
    "    a2.plot(np.arange(-100,300,Dt), rate, color=colors[c])\n",
    "\n",
    "    \n",
    "a1.plot([0,0], a1.get_ylim(), ':k', color='#cccccc')\n",
    "a2.plot([0,0], a2.get_ylim(), ':k', color='#cccccc')\n",
    "\n",
    "a1.set_ylabel('trial number')\n",
    "a2.set_ylabel('spike rate (sp/s)')\n",
    "a2.set_xlabel('time (ms)')\n",
    "\n",
    "plt.show()"
   ]
  },
  {
   "cell_type": "code",
   "execution_count": null,
   "metadata": {
    "collapsed": true
   },
   "outputs": [],
   "source": []
  }
 ],
 "metadata": {
  "anaconda-cloud": {},
  "kernelspec": {
   "display_name": "Python [conda root]",
   "language": "python",
   "name": "conda-root-py"
  },
  "language_info": {
   "codemirror_mode": {
    "name": "ipython",
    "version": 3
   },
   "file_extension": ".py",
   "mimetype": "text/x-python",
   "name": "python",
   "nbconvert_exporter": "python",
   "pygments_lexer": "ipython3",
   "version": "3.5.2"
  }
 },
 "nbformat": 4,
 "nbformat_minor": 1
}
